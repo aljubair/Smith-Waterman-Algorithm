{
 "cells": [
  {
   "cell_type": "code",
   "execution_count": 1,
   "id": "a0cf9e51",
   "metadata": {},
   "outputs": [],
   "source": [
    "import numpy as np"
   ]
  },
  {
   "cell_type": "code",
   "execution_count": 2,
   "id": "5eb30742",
   "metadata": {},
   "outputs": [],
   "source": [
    "def smith_waterman(seq1, seq2, match_score=5, mismatch_score=-3, gap_penalty=-4):\n",
    "    # Initialize the score matrix with zeros\n",
    "    rows = len(seq1) + 1\n",
    "    cols = len(seq2) + 1\n",
    "    score_matrix = np.zeros((rows, cols))\n",
    "    \n",
    "    # Variables to track the max score and its position\n",
    "    max_score = 0\n",
    "    max_pos = (0, 0)\n",
    "\n",
    "    # Fill the score matrix\n",
    "    for i in range(1, rows):\n",
    "        for j in range(1, cols):\n",
    "            match = match_score if seq1[i-1] == seq2[j-1] else mismatch_score\n",
    "            score = max(\n",
    "                0,  # Starting point\n",
    "                score_matrix[i-1][j-1] + match,  # Diagonal (match/mismatch)\n",
    "                score_matrix[i-1][j] + gap_penalty,  # Up (gap in seq2)\n",
    "                score_matrix[i][j-1] + gap_penalty  # Left (gap in seq1)\n",
    "            )\n",
    "            score_matrix[i][j] = score\n",
    "\n",
    "            # Track max score\n",
    "            if score > max_score:\n",
    "                max_score = score\n",
    "                max_pos = (i, j)\n",
    "\n",
    "    # Traceback to find the alignment\n",
    "    align1, align2 = '', ''\n",
    "    i, j = max_pos\n",
    "    while score_matrix[i][j] != 0:\n",
    "        if seq1[i-1] == seq2[j-1]:\n",
    "            align1 = seq1[i-1] + align1\n",
    "            align2 = seq2[j-1] + align2\n",
    "            i -= 1\n",
    "            j -= 1\n",
    "        elif score_matrix[i][j] == score_matrix[i-1][j] + gap_penalty:\n",
    "            align1 = seq1[i-1] + align1\n",
    "            align2 = '-' + align2\n",
    "            i -= 1\n",
    "        else:\n",
    "            align1 = '-' + align1\n",
    "            align2 = seq2[j-1] + align2\n",
    "            j -= 1\n",
    "\n",
    "    return align1, align2, max_score"
   ]
  },
  {
   "cell_type": "code",
   "execution_count": 3,
   "id": "ab7e26d9",
   "metadata": {},
   "outputs": [
    {
     "name": "stdout",
     "output_type": "stream",
     "text": [
      "Alignment 1: GA-ATTC-A\n",
      "Alignment 2: G-GA-TCGA\n",
      "Max Score: 14.0\n"
     ]
    }
   ],
   "source": [
    "# Example usage\n",
    "seq1 = \"GAATTCAGTTA\"\n",
    "seq2 = \"GGATCGA\"\n",
    "align1, align2, max_score = smith_waterman(seq1, seq2)\n",
    "\n",
    "print(\"Alignment 1:\", align1)\n",
    "print(\"Alignment 2:\", align2)\n",
    "print(\"Max Score:\", max_score)"
   ]
  },
  {
   "cell_type": "code",
   "execution_count": null,
   "id": "7ac65705",
   "metadata": {},
   "outputs": [],
   "source": []
  }
 ],
 "metadata": {
  "kernelspec": {
   "display_name": "py",
   "language": "python",
   "name": "py"
  },
  "language_info": {
   "codemirror_mode": {
    "name": "ipython",
    "version": 3
   },
   "file_extension": ".py",
   "mimetype": "text/x-python",
   "name": "python",
   "nbconvert_exporter": "python",
   "pygments_lexer": "ipython3",
   "version": "3.11.9"
  }
 },
 "nbformat": 4,
 "nbformat_minor": 5
}
